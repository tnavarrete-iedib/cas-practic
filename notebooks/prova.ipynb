{
 "cells": [
  {
   "cell_type": "code",
   "execution_count": 1,
   "metadata": {},
   "outputs": [
    {
     "name": "stdout",
     "output_type": "stream",
     "text": [
      "Superfície total: 4972 km2\n"
     ]
    }
   ],
   "source": [
    "import pandas as pd\n",
    "dades = {\n",
    "    'illa': ['Mallorca', 'Menorca', 'Eivissa', 'Formentera'],\n",
    "    'superficie': [3620, 692, 577, 83],\n",
    "    'poblacio': [ 923608, 94885, 147914, 11708]\n",
    "}\n",
    "df = pd.DataFrame(dades)\n",
    "print(\"Superfície total en km2\", df['superficie'].sum())"
   ]
  }
 ],
 "metadata": {
  "kernelspec": {
   "display_name": "cas-practic-yiXI6Ih8-py3.11",
   "language": "python",
   "name": "python3"
  },
  "language_info": {
   "codemirror_mode": {
    "name": "ipython",
    "version": 3
   },
   "file_extension": ".py",
   "mimetype": "text/x-python",
   "name": "python",
   "nbconvert_exporter": "python",
   "pygments_lexer": "ipython3",
   "version": "3.11.6"
  }
 },
 "nbformat": 4,
 "nbformat_minor": 2
}
